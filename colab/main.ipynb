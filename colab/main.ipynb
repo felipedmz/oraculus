{
  "nbformat": 4,
  "nbformat_minor": 0,
  "metadata": {
    "colab": {
      "provenance": []
    },
    "kernelspec": {
      "name": "python3",
      "display_name": "Python 3"
    },
    "language_info": {
      "name": "python"
    }
  },
  "cells": [
    {
      "cell_type": "code",
      "execution_count": 1,
      "metadata": {
        "colab": {
          "base_uri": "https://localhost:8080/"
        },
        "id": "8iyB4mdcnNqT",
        "outputId": "50dc28ea-f7d6-48d0-a2ee-dad72c19eac6"
      },
      "outputs": [
        {
          "output_type": "stream",
          "name": "stdout",
          "text": [
            "> Inicializando API Client em=dev\n",
            "> Utilizando o token=token_dummy_001\n"
          ]
        }
      ],
      "source": [
        "from api import Client\n",
        "api = Client('dev')"
      ]
    },
    {
      "cell_type": "code",
      "source": [
        "print(\"> Verificando criptos disponíveis\")\n",
        "print(api.available_cripto())"
      ],
      "metadata": {
        "colab": {
          "base_uri": "https://localhost:8080/"
        },
        "id": "j0oclt0WovVJ",
        "outputId": "62446010-d27e-4319-d27e-7ef0ef8ba768"
      },
      "execution_count": 2,
      "outputs": [
        {
          "output_type": "stream",
          "name": "stdout",
          "text": [
            "> Verificando criptos disponíveis\n",
            "BTC\n"
          ]
        }
      ]
    },
    {
      "cell_type": "code",
      "source": [
        "print(\"\\n> Obtendo status da carteira\")\n",
        "print(api.status())"
      ],
      "metadata": {
        "colab": {
          "base_uri": "https://localhost:8080/"
        },
        "id": "r-Y0UESSo1-c",
        "outputId": "6b3dd8df-349f-4a1d-8343-0c740fdb27de"
      },
      "execution_count": 3,
      "outputs": [
        {
          "output_type": "stream",
          "name": "stdout",
          "text": [
            "\n",
            "> Obtendo status da carteira\n",
            "  ticker    quantity\n",
            "0    BTC         0.0\n",
            "1  money  10005200.0\n",
            "2  total  10005200.0\n"
          ]
        }
      ]
    },
    {
      "cell_type": "code",
      "source": [
        "print(\"\\n> Verificando histórico de todas as movimentações\")\n",
        "print(api.history())"
      ],
      "metadata": {
        "colab": {
          "base_uri": "https://localhost:8080/"
        },
        "id": "CIeNvdgZo3mK",
        "outputId": "019df433-cab2-4c55-f932-b49bd7a1c3e2"
      },
      "execution_count": 4,
      "outputs": [
        {
          "output_type": "stream",
          "name": "stdout",
          "text": [
            "\n",
            "> Verificando histórico de todas as movimentações\n",
            "   ticker            datetime  side  quantity    price\n",
            "0     BTC 2023-08-18 20:35:00   buy       0.2  29909.6\n",
            "1     BTC 2023-08-18 20:35:13  sell       0.2  29920.7\n",
            "2     BTC 2023-08-19 00:12:07   buy       1.0  29776.0\n",
            "3     BTC 2023-08-19 00:12:11   buy       0.2  29776.0\n",
            "4     BTC 2023-08-19 00:14:27  sell       1.4  29770.0\n",
            "5     BTC 2023-08-19 11:46:40   buy       0.2  29819.7\n",
            "6     BTC 2023-08-19 11:56:13   buy       0.2  29806.7\n",
            "7     BTC 2023-08-19 11:56:22  sell       0.2  29806.7\n",
            "8     BTC 2023-09-04 22:43:15   buy       0.2  26052.7\n",
            "9     BTC 2023-09-04 22:43:38  sell       0.2  26052.7\n",
            "10    BTC 2023-09-04 23:01:00   buy       0.2  26064.1\n",
            "11    BTC 2023-09-04 23:01:19  sell       0.2  26060.9\n",
            "12    BTC 2023-09-07 20:51:10  sell       0.2  26019.0\n",
            "13    BTC 2023-09-14 21:21:37   buy       0.2  25823.4\n",
            "14    BTC 2023-09-14 21:21:54  sell       0.2  25823.4\n",
            "15    BTC 2023-09-15 20:54:48   buy       0.2  25714.7\n",
            "16    BTC 2023-09-15 20:55:01  sell       0.2  25714.7\n",
            "17    BTC 2023-09-15 23:29:57   buy       0.2  25773.1\n",
            "18    BTC 2023-09-15 23:30:12  sell       0.2  25772.4\n",
            "19    BTC 2023-09-15 23:33:20   buy       0.2  25775.6\n",
            "20    BTC 2023-09-15 23:33:34  sell       0.2  25775.6\n",
            "21    BTC 2023-09-15 23:34:28   buy       0.2  25775.6\n",
            "22    BTC 2023-09-15 23:34:42  sell       0.2  25775.6\n",
            "23    BTC 2023-09-15 23:37:42   buy       0.2  25784.4\n",
            "24    BTC 2023-09-15 23:37:52  sell       0.2  25784.4\n",
            "25    BTC 2023-09-16 01:01:46   buy       0.2  25783.2\n",
            "26    BTC 2023-09-16 01:01:59  sell       0.2  25789.3\n",
            "27    BTC 2023-09-16 01:06:59   buy       0.2  25783.7\n",
            "28    BTC 2023-09-16 01:07:05  sell       0.2  25783.7\n",
            "29    BTC 2023-09-16 01:07:38   buy       0.2  25783.7\n",
            "30    BTC 2023-09-16 01:07:43  sell       0.2  25783.7\n",
            "31    BTC 2023-09-16 01:18:52   buy       0.2  25795.7\n",
            "32    BTC 2023-09-16 01:18:58  sell       0.2  25803.4\n",
            "33    BTC 2023-09-16 01:20:41   buy       0.2  25811.2\n",
            "34    BTC 2023-09-16 01:20:46  sell       0.2  25811.2\n",
            "35    BTC 2023-09-16 01:21:30   buy       0.2  25805.1\n",
            "36    BTC 2023-09-16 01:21:35  sell       0.2  25805.1\n",
            "37    BTC 2023-09-16 01:27:22   buy       0.2  25803.0\n",
            "38    BTC 2023-09-16 01:27:27  sell       0.2  25803.0\n",
            "39    BTC 2023-09-16 01:28:11   buy       0.2  25808.5\n",
            "40    BTC 2023-09-16 01:28:16  sell       0.2  25808.5\n",
            "41    BTC 2023-09-16 01:36:23   buy       0.2  25808.6\n",
            "42    BTC 2023-09-16 01:36:28  sell       0.2  25808.6\n"
          ]
        }
      ]
    },
    {
      "cell_type": "code",
      "source": [
        "print(\"\\n> Obtendo cotação dos últimos 500 minutos (OHLC) de uma cripto\")\n",
        "print(api.cripto_quotation())"
      ],
      "metadata": {
        "colab": {
          "base_uri": "https://localhost:8080/"
        },
        "id": "lBMhFGrso40t",
        "outputId": "ebad70cc-6506-4b80-e4f7-d17c515a9e1c"
      },
      "execution_count": 5,
      "outputs": [
        {
          "output_type": "stream",
          "name": "stdout",
          "text": [
            "\n",
            "> Obtendo cotação dos últimos 500 minutos (OHLC) de uma cripto\n",
            "   symbol            datetime      open      high       low     close  \\\n",
            "0     BTC 2023-09-16 01:09:00  25787.27  25789.34  25787.26  25789.33   \n",
            "1     BTC 2023-09-16 01:10:00  25789.34  25797.75  25789.33  25797.74   \n",
            "2     BTC 2023-09-16 01:11:00  25797.74  25798.84  25797.37  25797.37   \n",
            "3     BTC 2023-09-16 01:12:00  25797.37  25797.38  25797.37  25797.37   \n",
            "4     BTC 2023-09-16 01:13:00  25797.38  25797.38  25797.37  25797.38   \n",
            "5     BTC 2023-09-16 01:14:00  25797.37  25797.38  25787.02  25787.02   \n",
            "6     BTC 2023-09-16 01:15:00  25787.03  25790.45  25787.02  25790.38   \n",
            "7     BTC 2023-09-16 01:16:00  25790.37  25790.38  25783.81  25783.81   \n",
            "8     BTC 2023-09-16 01:17:00  25783.81  25790.46  25783.81  25790.46   \n",
            "9     BTC 2023-09-16 01:18:00  25790.45  25795.69  25790.45  25795.68   \n",
            "10    BTC 2023-09-16 01:19:00  25795.68  25803.43  25795.68  25803.43   \n",
            "11    BTC 2023-09-16 01:20:00  25803.42  25811.17  25803.42  25811.16   \n",
            "12    BTC 2023-09-16 01:21:00  25811.16  25811.17  25805.06  25805.06   \n",
            "13    BTC 2023-09-16 01:22:00  25805.06  25805.07  25801.70  25801.71   \n",
            "14    BTC 2023-09-16 01:23:00  25801.71  25801.71  25800.56  25800.57   \n",
            "15    BTC 2023-09-16 01:24:00  25800.56  25800.57  25798.63  25798.63   \n",
            "16    BTC 2023-09-16 01:25:00  25798.63  25798.65  25798.63  25798.65   \n",
            "17    BTC 2023-09-16 01:26:00  25798.64  25798.65  25798.64  25798.64   \n",
            "18    BTC 2023-09-16 01:27:00  25798.64  25803.02  25798.64  25803.02   \n",
            "19    BTC 2023-09-16 01:28:00  25803.01  25808.54  25803.01  25808.54   \n",
            "20    BTC 2023-09-16 01:29:00  25808.54  25811.58  25808.53  25811.57   \n",
            "21    BTC 2023-09-16 01:30:00  25811.58  25811.58  25811.57  25811.58   \n",
            "22    BTC 2023-09-16 01:31:00  25811.57  25814.80  25811.57  25814.79   \n",
            "23    BTC 2023-09-16 01:32:00  25814.80  25820.69  25814.79  25815.18   \n",
            "24    BTC 2023-09-16 01:33:00  25815.17  25818.76  25812.93  25818.76   \n",
            "25    BTC 2023-09-16 01:34:00  25818.76  25819.89  25817.58  25817.59   \n",
            "26    BTC 2023-09-16 01:35:00  25817.59  25819.73  25813.41  25813.41   \n",
            "27    BTC 2023-09-16 01:36:00  25813.41  25813.42  25808.54  25808.55   \n",
            "28    BTC 2023-09-16 01:37:00  25808.55  25808.55  25802.06  25802.07   \n",
            "29    BTC 2023-09-16 01:38:00  25802.07  25802.07  25801.79  25801.80   \n",
            "\n",
            "      volume  number_of_trades  \n",
            "0    3.28051               198  \n",
            "1    7.67744               277  \n",
            "2   16.14891               291  \n",
            "3    6.61756               206  \n",
            "4    4.40687               243  \n",
            "5   11.67104               310  \n",
            "6    8.13348               307  \n",
            "7    8.30473               249  \n",
            "8    6.54688               333  \n",
            "9    3.60720               192  \n",
            "10  10.92869               367  \n",
            "11   3.71780               273  \n",
            "12   5.83235               233  \n",
            "13   3.19342               190  \n",
            "14   7.07167               204  \n",
            "15   5.69041               188  \n",
            "16   7.71669               239  \n",
            "17   1.29444               150  \n",
            "18   9.40518               386  \n",
            "19  15.89104               422  \n",
            "20   2.69966               235  \n",
            "21   2.73843               212  \n",
            "22   7.41509               394  \n",
            "23  13.95351               570  \n",
            "24   8.24468               354  \n",
            "25   6.80661               171  \n",
            "26   5.64227               266  \n",
            "27   7.12981               255  \n",
            "28   4.76910               223  \n",
            "29   6.02360               164  \n"
          ]
        }
      ]
    },
    {
      "cell_type": "code",
      "source": [
        "print(\"\\n> Realizando COMPRA de cripto\")\n",
        "print(api.buy(0.2))"
      ],
      "metadata": {
        "colab": {
          "base_uri": "https://localhost:8080/"
        },
        "id": "kefTizyCo545",
        "outputId": "ade212e6-d243-4fbc-99a6-08d8909017bb"
      },
      "execution_count": 6,
      "outputs": [
        {
          "output_type": "stream",
          "name": "stdout",
          "text": [
            "\n",
            "> Realizando COMPRA de cripto\n",
            "Compra realizada com sucesso: 0.2 BTC por 25801.8 a unidade (total de 5160.360000000001) @ 2023-09-16 01:39:00\n"
          ]
        }
      ]
    },
    {
      "cell_type": "code",
      "source": [
        "print(\"\\n> Realizando VENDA cripto\")\n",
        "print(api.sell(0.2))"
      ],
      "metadata": {
        "colab": {
          "base_uri": "https://localhost:8080/"
        },
        "id": "1cHwqrloo671",
        "outputId": "3373ac5c-dd52-468c-c60f-406131abb27c"
      },
      "execution_count": 7,
      "outputs": [
        {
          "output_type": "stream",
          "name": "stdout",
          "text": [
            "\n",
            "> Realizando VENDA cripto\n",
            "Venda realizada com sucesso: 0.2 BTC por 25799.32 a unidade (total de 5159.8640000000005) @ 2023-09-16 01:39:05\n"
          ]
        }
      ]
    }
  ]
}