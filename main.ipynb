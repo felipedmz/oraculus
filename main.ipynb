{
  "nbformat": 4,
  "nbformat_minor": 0,
  "metadata": {
    "colab": {
      "provenance": []
    },
    "kernelspec": {
      "name": "python3",
      "display_name": "Python 3"
    },
    "language_info": {
      "name": "python"
    }
  },
  "cells": [
    {
      "cell_type": "markdown",
      "source": [
        "# Validação das APIs"
      ],
      "metadata": {
        "id": "lFnf6l9ln70_"
      }
    },
    {
      "cell_type": "code",
      "execution_count": null,
      "metadata": {
        "colab": {
          "base_uri": "https://localhost:8080/"
        },
        "id": "8iyB4mdcnNqT",
        "outputId": "7c249b0b-a084-4978-bacf-348c15421e49"
      },
      "outputs": [
        {
          "output_type": "stream",
          "name": "stdout",
          "text": [
            "> Inicializando API Client em=dev\n",
            "> Utilizando o token=token_dummy_001\n"
          ]
        }
      ],
      "source": [
        "from src.api import Client\n",
        "api = Client('dev')"
      ]
    },
    {
      "cell_type": "code",
      "source": [
        "print(\"> Verificando criptos disponíveis\")\n",
        "print(api.available_cripto())"
      ],
      "metadata": {
        "colab": {
          "base_uri": "https://localhost:8080/"
        },
        "id": "j0oclt0WovVJ",
        "outputId": "d6482909-e13f-44b5-b9a2-32a011314e00"
      },
      "execution_count": null,
      "outputs": [
        {
          "output_type": "stream",
          "name": "stdout",
          "text": [
            "> Verificando criptos disponíveis\n",
            "BTC\n"
          ]
        }
      ]
    },
    {
      "cell_type": "code",
      "source": [
        "print(\"> Obtendo status da carteira\")\n",
        "print(api.status())"
      ],
      "metadata": {
        "colab": {
          "base_uri": "https://localhost:8080/"
        },
        "id": "r-Y0UESSo1-c",
        "outputId": "7556516e-2a29-458b-bc27-f60c3cebf5f9"
      },
      "execution_count": null,
      "outputs": [
        {
          "output_type": "stream",
          "name": "stdout",
          "text": [
            "> Obtendo status da carteira\n",
            "    ticker      quantity\n",
            "0      BTC  2.000000e-01\n",
            "1  BTCUSDT  7.437300e-02\n",
            "2    money  9.998150e+06\n",
            "3    total  1.000330e+07\n"
          ]
        }
      ]
    },
    {
      "cell_type": "code",
      "source": [
        "print(\"> Verificando histórico de todas as movimentações\")\n",
        "print(api.history())"
      ],
      "metadata": {
        "colab": {
          "base_uri": "https://localhost:8080/"
        },
        "id": "CIeNvdgZo3mK",
        "outputId": "f3ec3f01-d866-41e8-cfd9-188d48bfa42c"
      },
      "execution_count": null,
      "outputs": [
        {
          "output_type": "stream",
          "name": "stdout",
          "text": [
            "> Verificando histórico de todas as movimentações\n",
            "   ticker            datetime  side  quantity    price\n",
            "0     BTC 2023-08-18 20:35:00   buy       0.2  29909.6\n",
            "1     BTC 2023-08-18 20:35:13  sell       0.2  29920.7\n",
            "2     BTC 2023-08-19 00:12:07   buy       1.0  29776.0\n",
            "3     BTC 2023-08-19 00:12:11   buy       0.2  29776.0\n",
            "4     BTC 2023-08-19 00:14:27  sell       1.4  29770.0\n",
            "..    ...                 ...   ...       ...      ...\n",
            "77    BTC 2023-09-16 06:26:41   buy       0.2  25740.9\n",
            "78    BTC 2023-09-16 06:26:45  sell       0.2  25740.9\n",
            "79    BTC 2023-09-16 06:27:50   buy       0.2  25751.8\n",
            "80    BTC 2023-09-16 06:28:19   buy       0.2  25762.3\n",
            "81    BTC 2023-09-16 06:28:24  sell       0.2  25762.3\n",
            "\n",
            "[82 rows x 5 columns]\n"
          ]
        }
      ]
    },
    {
      "cell_type": "code",
      "source": [
        "print(\"> Obtendo cotação dos últimos 500 minutos (OHLC) de uma cripto\")\n",
        "print(api.cripto_quotation())"
      ],
      "metadata": {
        "colab": {
          "base_uri": "https://localhost:8080/"
        },
        "id": "lBMhFGrso40t",
        "outputId": "126e5fe4-9051-4d27-d084-a7a8ce9c63bd"
      },
      "execution_count": null,
      "outputs": [
        {
          "output_type": "stream",
          "name": "stdout",
          "text": [
            "> Obtendo cotação dos últimos 500 minutos (OHLC) de uma cripto\n",
            "   symbol            datetime      open      high       low     close  \\\n",
            "0     BTC 2023-09-16 06:10:00  25743.58  25746.74  25743.57  25746.74   \n",
            "1     BTC 2023-09-16 06:11:00  25746.73  25746.74  25741.62  25741.62   \n",
            "2     BTC 2023-09-16 06:12:00  25741.63  25741.63  25741.16  25741.17   \n",
            "3     BTC 2023-09-16 06:13:00  25741.17  25741.17  25741.16  25741.17   \n",
            "4     BTC 2023-09-16 06:14:00  25741.16  25744.00  25741.16  25744.00   \n",
            "5     BTC 2023-09-16 06:15:00  25744.00  25744.00  25743.99  25744.00   \n",
            "6     BTC 2023-09-16 06:16:00  25744.00  25744.00  25742.20  25742.21   \n",
            "7     BTC 2023-09-16 06:17:00  25742.21  25742.21  25742.20  25742.21   \n",
            "8     BTC 2023-09-16 06:18:00  25742.21  25742.21  25742.20  25742.20   \n",
            "9     BTC 2023-09-16 06:19:00  25742.21  25746.56  25742.20  25746.55   \n",
            "10    BTC 2023-09-16 06:20:00  25746.55  25747.17  25744.00  25747.16   \n",
            "11    BTC 2023-09-16 06:21:00  25747.16  25755.59  25747.16  25755.58   \n",
            "12    BTC 2023-09-16 06:22:00  25755.58  25755.59  25752.50  25753.46   \n",
            "13    BTC 2023-09-16 06:23:00  25753.45  25754.72  25750.00  25750.01   \n",
            "14    BTC 2023-09-16 06:24:00  25750.00  25750.01  25748.77  25748.77   \n",
            "15    BTC 2023-09-16 06:25:00  25748.78  25748.78  25744.01  25744.02   \n",
            "16    BTC 2023-09-16 06:26:00  25744.01  25744.02  25740.91  25740.92   \n",
            "17    BTC 2023-09-16 06:27:00  25740.91  25751.75  25740.91  25751.75   \n",
            "18    BTC 2023-09-16 06:28:00  25751.75  25762.34  25751.74  25762.33   \n",
            "19    BTC 2023-09-16 06:29:00  25762.34  25764.14  25762.18  25762.18   \n",
            "20    BTC 2023-09-16 06:30:00  25762.18  25762.19  25756.81  25756.82   \n",
            "21    BTC 2023-09-16 06:31:00  25756.82  25756.82  25751.77  25751.77   \n",
            "22    BTC 2023-09-16 06:32:00  25751.77  25761.33  25751.77  25761.33   \n",
            "23    BTC 2023-09-16 06:33:00  25761.33  25761.33  25759.38  25759.38   \n",
            "24    BTC 2023-09-16 06:34:00  25759.39  25759.39  25755.64  25755.65   \n",
            "25    BTC 2023-09-16 06:35:00  25755.64  25755.65  25755.64  25755.64   \n",
            "26    BTC 2023-09-16 06:36:00  25755.65  25755.65  25755.64  25755.65   \n",
            "27    BTC 2023-09-16 06:37:00  25755.65  25768.49  25755.64  25768.49   \n",
            "28    BTC 2023-09-16 06:38:00  25768.49  25771.44  25764.37  25764.37   \n",
            "29    BTC 2023-09-16 06:39:00  25764.38  25767.47  25764.37  25767.47   \n",
            "\n",
            "      volume  number_of_trades  \n",
            "0   11.41348               242  \n",
            "1    9.79275               309  \n",
            "2    2.77814               196  \n",
            "3    3.60728               236  \n",
            "4    7.12988               281  \n",
            "5    2.83737               173  \n",
            "6    6.69496               234  \n",
            "7    2.91134               204  \n",
            "8   18.88546               229  \n",
            "9    7.72004               270  \n",
            "10  10.55698               429  \n",
            "11  13.88989               344  \n",
            "12  11.22927               324  \n",
            "13  19.80559               436  \n",
            "14   8.44229               263  \n",
            "15  11.47266               233  \n",
            "16   4.79235               221  \n",
            "17  11.48727               367  \n",
            "18  18.45866               454  \n",
            "19   7.35064               291  \n",
            "20   7.33138               201  \n",
            "21   8.53217               234  \n",
            "22   7.80013               291  \n",
            "23   6.73101               204  \n",
            "24  15.08819               208  \n",
            "25   3.38129               200  \n",
            "26   6.22361               217  \n",
            "27   7.94544               386  \n",
            "28  15.33411               351  \n",
            "29   4.67785               284  \n"
          ]
        }
      ]
    },
    {
      "cell_type": "code",
      "source": [
        "print(\"> Realizando COMPRA de cripto\")\n",
        "print(api.buy(0.2))"
      ],
      "metadata": {
        "colab": {
          "base_uri": "https://localhost:8080/"
        },
        "id": "kefTizyCo545",
        "outputId": "5ea78f0f-d713-4df6-af5d-89bb40e87cfd"
      },
      "execution_count": null,
      "outputs": [
        {
          "output_type": "stream",
          "name": "stdout",
          "text": [
            "> Realizando COMPRA de cripto\n",
            "Compra realizada com sucesso: 0.2 BTC por 25767.47 a unidade (total de 5153.494000000001) @ 2023-09-16 06:39:22\n"
          ]
        }
      ]
    },
    {
      "cell_type": "code",
      "source": [
        "print(\"> Realizando VENDA cripto\")\n",
        "print(api.sell(0.2))"
      ],
      "metadata": {
        "colab": {
          "base_uri": "https://localhost:8080/"
        },
        "id": "1cHwqrloo671",
        "outputId": "b88696a6-7d12-489c-9236-9ea9566ba734"
      },
      "execution_count": null,
      "outputs": [
        {
          "output_type": "stream",
          "name": "stdout",
          "text": [
            "> Realizando VENDA cripto\n",
            "Venda realizada com sucesso: 0.2 BTC por 25767.47 a unidade (total de 5153.494000000001) @ 2023-09-16 06:39:26\n"
          ]
        }
      ]
    },
    {
      "cell_type": "markdown",
      "source": [
        "# Train"
      ],
      "metadata": {
        "id": "eBO0TrdpoClE"
      }
    },
    {
      "cell_type": "code",
      "source": [
        "!pip install statsmodels\n",
        "!pip install pyarrow"
      ],
      "metadata": {
        "colab": {
          "base_uri": "https://localhost:8080/"
        },
        "id": "7aszodr2pbha",
        "outputId": "3702b481-135c-4a9a-db29-a476896492e8"
      },
      "execution_count": null,
      "outputs": [
        {
          "output_type": "stream",
          "name": "stdout",
          "text": [
            "Requirement already satisfied: statsmodels in /usr/local/lib/python3.10/dist-packages (0.14.0)\n",
            "Requirement already satisfied: numpy>=1.18 in /usr/local/lib/python3.10/dist-packages (from statsmodels) (1.23.5)\n",
            "Requirement already satisfied: scipy!=1.9.2,>=1.4 in /usr/local/lib/python3.10/dist-packages (from statsmodels) (1.11.2)\n",
            "Requirement already satisfied: pandas>=1.0 in /usr/local/lib/python3.10/dist-packages (from statsmodels) (1.5.3)\n",
            "Requirement already satisfied: patsy>=0.5.2 in /usr/local/lib/python3.10/dist-packages (from statsmodels) (0.5.3)\n",
            "Requirement already satisfied: packaging>=21.3 in /usr/local/lib/python3.10/dist-packages (from statsmodels) (23.1)\n",
            "Requirement already satisfied: python-dateutil>=2.8.1 in /usr/local/lib/python3.10/dist-packages (from pandas>=1.0->statsmodels) (2.8.2)\n",
            "Requirement already satisfied: pytz>=2020.1 in /usr/local/lib/python3.10/dist-packages (from pandas>=1.0->statsmodels) (2023.3.post1)\n",
            "Requirement already satisfied: six in /usr/local/lib/python3.10/dist-packages (from patsy>=0.5.2->statsmodels) (1.16.0)\n",
            "Requirement already satisfied: pyarrow in /usr/local/lib/python3.10/dist-packages (9.0.0)\n",
            "Requirement already satisfied: numpy>=1.16.6 in /usr/local/lib/python3.10/dist-packages (from pyarrow) (1.23.5)\n"
          ]
        }
      ]
    },
    {
      "cell_type": "code",
      "source": [
        "import pandas as pd\n",
        "import numpy as np\n",
        "import statsmodels.api as sm\n",
        "import pickle\n",
        "from src.simple_robot import feature_eng\n",
        "# Baixando os dados de BTC\n",
        "df = pd.read_parquet('data/BTC-USDT.parquet')\n",
        "\n",
        "#### Calculando o target (y)\n",
        "\n",
        "# Calculando qual a média de close dos próximos 10min\n",
        "df['forward_average'] = df[::-1]['close'].rolling(10).mean()[::-1].shift(-1)\n",
        "\n",
        "# Target será a diferença percentual do 'forward_average' com o 'close' atual\n",
        "df['target'] = 100*(df['forward_average'] - df['close']) / df['close']\n",
        "\n",
        "df.head(3)\n",
        "# Outra possibilidade: target como a diferença entre o proximo minuto e o atual: df['diff']= -df['close'].diff(-1)\n",
        "\n",
        "#### Calculando as features (x)\n",
        "# Toda a parte de criação de features está no arquivo simple_robot.py. Aqui apenas chamamos a função. Isso é útil, pois conseguimos usar a mesma função no momento de colocar o robô em produção\n",
        "df = feature_eng(df)\n",
        "df.head(5)\n",
        "\n",
        "#### Separando em treino/ teste\n",
        "\"\"\"\n",
        "Separando usando data. Isso é importante, pois precisamos entender se os modelos criados\n",
        "em um tempo passado continua sendo útil em um tempo futuro.\n",
        "\"\"\"\n",
        "test_treshold = '2021-06-01 00:00:00'\n",
        "\n",
        "train = df[df.index <= test_treshold]\n",
        "test = df[df.index > test_treshold]\n",
        "\n",
        "X_train = train.drop(columns=['target'])\n",
        "y_train = train['target']\n",
        "\n",
        "X_test = test.drop(columns=['target'])\n",
        "y_test = test['target']\n",
        "\n",
        "# Modelo linear simples\n",
        "model = sm.OLS(y_train,X_train).fit()\n",
        "print(model.summary())\n",
        "print('\\n\\n')\n",
        "\n",
        "#### Resultado do Modelo Linear\n",
        "y_hat = model.predict(X_test)\n",
        "MSE = ((y_hat - y_test)**2).mean()\n",
        "print(f'MSE={MSE}')\n",
        "\n",
        "MAE = ((y_hat - y_test).abs()).mean()\n",
        "print(f'MAE={MAE}')\n",
        "\n",
        "#### Referência\n",
        "\"\"\"\n",
        "É sempre recomendado ter valores de referência, para saber se seu modelo é ou não melhor do que outras alternativas \"naive\"\n",
        "Abaixo, um exemplo de resultado Naive, assumindo todos 0\n",
        "\"\"\"\n",
        "MSE_assuming_all_zero = (y_test**2).mean()\n",
        "print(f'MSE_assuming_all_zero={MSE_assuming_all_zero}')\n",
        "\n",
        "MAE_assuming_all_zero = (y_test.abs()).mean()\n",
        "print(f'MAE_assuming_all_zero={MAE_assuming_all_zero}')\n",
        "\n",
        "# Salvando o modelo em um arquivo pickle para ser utilizado nas etapas seguintes\n",
        "filename = 'data/model_dummy.pickle'\n",
        "pickle.dump(model, open(filename, 'wb'))\n",
        "\n",
        "print(f'\\nExport realizado para: {filename}')"
      ],
      "metadata": {
        "colab": {
          "base_uri": "https://localhost:8080/"
        },
        "id": "Hzr4457-oENy",
        "outputId": "b59eb10b-fd91-4d0b-ffb8-400de236b5d1"
      },
      "execution_count": null,
      "outputs": [
        {
          "output_type": "stream",
          "name": "stdout",
          "text": [
            "                                 OLS Regression Results                                \n",
            "=======================================================================================\n",
            "Dep. Variable:                 target   R-squared (uncentered):                   0.006\n",
            "Model:                            OLS   Adj. R-squared (uncentered):              0.006\n",
            "Method:                 Least Squares   F-statistic:                              1371.\n",
            "Date:                Sat, 16 Sep 2023   Prob (F-statistic):                        0.00\n",
            "Time:                        06:39:51   Log-Likelihood:                     -1.6275e+05\n",
            "No. Observations:             1984586   AIC:                                  3.255e+05\n",
            "Df Residuals:                 1984577   BIC:                                  3.256e+05\n",
            "Df Model:                           9                                                  \n",
            "Covariance Type:            nonrobust                                                  \n",
            "====================================================================================\n",
            "                       coef    std err          t      P>|t|      [0.025      0.975]\n",
            "------------------------------------------------------------------------------------\n",
            "close            -7.046e-06   5.16e-06     -1.366      0.172   -1.72e-05    3.06e-06\n",
            "volume             -1.8e-05    5.7e-06     -3.158      0.002   -2.92e-05   -6.83e-06\n",
            "number_of_trades  9.586e-06   5.83e-07     16.437      0.000    8.44e-06    1.07e-05\n",
            "lag_1               -0.0593      0.002    -34.433      0.000      -0.063      -0.056\n",
            "lag_2               -0.0597      0.001    -43.733      0.000      -0.062      -0.057\n",
            "ma_10             -7.62e-05    7.2e-06    -10.589      0.000   -9.03e-05   -6.21e-05\n",
            "ma_30             8.299e-05    3.7e-06     22.445      0.000    7.57e-05    9.02e-05\n",
            "ratio_ma             0.0008      0.000      2.403      0.016       0.000       0.001\n",
            "time             -2.086e-09   4.25e-10     -4.911      0.000   -2.92e-09   -1.25e-09\n",
            "==============================================================================\n",
            "Omnibus:                   725378.504   Durbin-Watson:                   0.279\n",
            "Prob(Omnibus):                  0.000   Jarque-Bera (JB):        323187605.211\n",
            "Skew:                           0.311   Prob(JB):                         0.00\n",
            "Kurtosis:                      65.514   Cond. No.                     6.14e+06\n",
            "==============================================================================\n",
            "\n",
            "Notes:\n",
            "[1] R² is computed without centering (uncentered) since the model does not contain a constant.\n",
            "[2] Standard Errors assume that the covariance matrix of the errors is correctly specified.\n",
            "[3] The condition number is large, 6.14e+06. This might indicate that there are\n",
            "strong multicollinearity or other numerical problems.\n",
            "\n",
            "\n",
            "\n",
            "MSE=0.050579856231385965\n",
            "MAE=0.15212287007587547\n",
            "MSE_assuming_all_zero=0.05047459506760965\n",
            "MAE_assuming_all_zero=0.15246031775732927\n",
            "\n",
            "Export realizado para: data/model_dummy.pickle\n"
          ]
        }
      ]
    },
    {
      "cell_type": "markdown",
      "source": [
        "# Robo"
      ],
      "metadata": {
        "id": "vUnqEXHcoP3o"
      }
    },
    {
      "cell_type": "code",
      "source": [
        "from src.api import Client\n",
        "from src.simple_robot import my_robot\n",
        "\n",
        "api = Client('dev')\n",
        "minutos = 2\n",
        "my_robot(api, minutos)"
      ],
      "metadata": {
        "colab": {
          "base_uri": "https://localhost:8080/"
        },
        "id": "Q36GjBRioS45",
        "outputId": "a5adaaf0-dcbe-461c-8fe9-efd506ac564d"
      },
      "execution_count": null,
      "outputs": [
        {
          "output_type": "stream",
          "name": "stdout",
          "text": [
            "> Inicializando API Client em=dev\n",
            "> Utilizando o token=token_dummy_001\n",
            "\n",
            ">>>> My Robot @ 2023-09-16 06:40:59.291685\n",
            "Tendência neutra de -0.008764677376090418. Nenhuma ação realizada\n",
            "    ticker      quantity\n",
            "0      BTC  2.000000e-01\n",
            "1  BTCUSDT  7.437300e-02\n",
            "2    money  9.998150e+06\n",
            "3    total  1.000330e+07\n",
            ">>>> Aguardando 1 min\n",
            "\n",
            ">>>> My Robot @ 2023-09-16 06:42:08.389733\n",
            "Tendência neutra de -0.011065740706193056. Nenhuma ação realizada\n",
            "    ticker      quantity\n",
            "0      BTC  2.000000e-01\n",
            "1  BTCUSDT  7.437300e-02\n",
            "2    money  9.998150e+06\n",
            "3    total  1.000330e+07\n",
            ">>>> Aguardando 1 min\n"
          ]
        }
      ]
    }
  ]
}